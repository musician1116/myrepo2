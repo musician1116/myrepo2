{
 "cells": [
  {
   "cell_type": "code",
   "execution_count": 1,
   "metadata": {},
   "outputs": [],
   "source": [
    "import sqlite3"
   ]
  },
  {
   "cell_type": "code",
   "execution_count": 2,
   "metadata": {},
   "outputs": [
    {
     "data": {
      "text/plain": [
       "<sqlite3.Connection at 0x7f9ef8377b90>"
      ]
     },
     "execution_count": 2,
     "metadata": {},
     "output_type": "execute_result"
    }
   ],
   "source": [
    "conn = sqlite3.connect('student.db')\n",
    "conn"
   ]
  },
  {
   "cell_type": "code",
   "execution_count": 3,
   "metadata": {},
   "outputs": [],
   "source": [
    "sql = \"\"\"\n",
    " CREATE TABLE student\n",
    " (\n",
    " name text,\n",
    " no integer,\n",
    " addr text,\n",
    " gender text\n",
    " )\n",
    "\"\"\"\n",
    "\n",
    "c = conn.cursor()\n",
    "c.execute(\"DROP TABLE IF EXISTS student\")\n",
    "c.execute(sql)\n",
    "c.close()"
   ]
  },
  {
   "cell_type": "code",
   "execution_count": 4,
   "metadata": {},
   "outputs": [],
   "source": [
    "sql = \"\"\"\n",
    "      INSERT INTO student VALUES\n",
    "      ('학생1', 1, \"서울 강남구 일원동\", 'male')\n",
    "\"\"\"\n",
    "c = conn.cursor() # 객체 생성\n",
    "c.execute(sql)\n",
    "c.close()\n",
    "conn.commit()"
   ]
  },
  {
   "cell_type": "code",
   "execution_count": 5,
   "metadata": {},
   "outputs": [
    {
     "name": "stdout",
     "output_type": "stream",
     "text": [
      "('학생1', 1, '서울 강남구 일원동', 'male')\n"
     ]
    }
   ],
   "source": [
    "sql = 'select * from student'\n",
    "c = conn.cursor()\n",
    "c.execute(sql)\n",
    "# 하나의 데이터\n",
    "print(c.fetchone())"
   ]
  },
  {
   "cell_type": "code",
   "execution_count": 6,
   "metadata": {},
   "outputs": [],
   "source": [
    "# 실습 1\n",
    "sql = \"\"\"\n",
    " CREATE TABLE student1\n",
    " (\n",
    " name text,\n",
    " korean integer,\n",
    " math integer,\n",
    " english integer\n",
    " )\n",
    "\"\"\"\n",
    "c = conn.cursor()\n",
    "c.execute(\"DROP TABLE IF EXISTS student1\")\n",
    "c.execute(sql)\n",
    "c.close()"
   ]
  },
  {
   "cell_type": "code",
   "execution_count": 7,
   "metadata": {},
   "outputs": [],
   "source": [
    "sql = \"\"\"\n",
    "      INSERT INTO student1 VALUES\n",
    "      ('학생2', 90, 80, 70)\n",
    "\"\"\"\n",
    "c = conn.cursor() # 객체 생성\n",
    "c.execute(sql)\n",
    "c.close()\n",
    "conn.commit()"
   ]
  },
  {
   "cell_type": "code",
   "execution_count": 8,
   "metadata": {},
   "outputs": [
    {
     "name": "stdout",
     "output_type": "stream",
     "text": [
      "('학생2', 90, 80, 70)\n"
     ]
    }
   ],
   "source": [
    "sql = 'select * from student1'\n",
    "c = conn.cursor()\n",
    "c.execute(sql)\n",
    "print(c.fetchone())"
   ]
  },
  {
   "cell_type": "code",
   "execution_count": null,
   "metadata": {},
   "outputs": [],
   "source": []
  }
 ],
 "metadata": {
  "kernelspec": {
   "display_name": "Python 3",
   "language": "python",
   "name": "python3"
  },
  "language_info": {
   "codemirror_mode": {
    "name": "ipython",
    "version": 3
   },
   "file_extension": ".py",
   "mimetype": "text/x-python",
   "name": "python",
   "nbconvert_exporter": "python",
   "pygments_lexer": "ipython3",
   "version": "3.7.6"
  }
 },
 "nbformat": 4,
 "nbformat_minor": 4
}
